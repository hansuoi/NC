{
 "cells": [
  {
   "cell_type": "code",
   "execution_count": null,
   "metadata": {},
   "outputs": [],
   "source": [
    "import sympy as sym\n",
    "from sympy.plotting import plot\n",
    "sym.init_printing(use_unicode = True)\n",
    "%matplotlib inline"
   ]
  },
  {
   "cell_type": "code",
   "execution_count": null,
   "metadata": {},
   "outputs": [],
   "source": [
    "x = sym.Symbol('x')\n",
    "f = sym.Function('f')\n",
    "    \n",
    "f = x ** 3 - 2 * x - 5\n",
    "df = sym.Derivative(f).doit()\n",
    "d2f = sym.Derivative(df).doit()\n",
    "\n",
    "print(\"{}\\n{}\\n{}\\n\".format(f, df, d2f))"
   ]
  },
  {
   "cell_type": "code",
   "execution_count": null,
   "metadata": {},
   "outputs": [],
   "source": [
    "# 初期値\n",
    "n = 0\n",
    "x_n1 = 20\n",
    "x_n2 = 20\n",
    "\n",
    "i = 0\n",
    "# 誤差の対数を格納していく\n",
    "f_i1[i] = math.log(f.subs(x, x_n1))\n",
    "f_12[i] = math.log(f.subs(x, x_n2))\n",
    "\n",
    "while abs(f.subs(x, x_n)) >= 10**(-6):\n",
    "    i += 1\n",
    "    x_n1 = x_n1 - f.subs(x, x_n1) / df.subs(x, x_n1)\n",
    "    f_i1[i] = math.log(f.subs(x, x_n1))\n",
    "    x_n2 = x_n2 - df.subs(x, x_n2) / d2f.subs(x, x_n2)\n",
    "    f_12[i] = math.log(f.subs(x, x_n2))\n",
    "\n",
    "\n",
    "plt.grid()\n",
    "plt.ylabel(\"log f(x)\")\n",
    "plt.plot(n, f_i1, 'b')\n",
    "plt.plot(n, f_i2, 'r')\n",
    "plt.legend([\"1D\", \"2D\"])\n",
    "plt.show()"
   ]
  },
  {
   "cell_type": "code",
   "execution_count": null,
   "metadata": {},
   "outputs": [],
   "source": []
  }
 ],
 "metadata": {
  "kernelspec": {
   "display_name": "Python 3",
   "language": "python",
   "name": "python3"
  },
  "language_info": {
   "codemirror_mode": {
    "name": "ipython",
    "version": 3
   },
   "file_extension": ".py",
   "mimetype": "text/x-python",
   "name": "python",
   "nbconvert_exporter": "python",
   "pygments_lexer": "ipython3",
   "version": "3.7.4"
  }
 },
 "nbformat": 4,
 "nbformat_minor": 2
}
