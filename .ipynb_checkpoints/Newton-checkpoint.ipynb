{
 "cells": [
  {
   "cell_type": "markdown",
   "metadata": {},
   "source": [
    "Newton法をやってみようと思います"
   ]
  },
  {
   "cell_type": "markdown",
   "metadata": {},
   "source": [
    "- Newton法…非線形方程式*f*(*x*) = 0 の解を数値的に求める方法\n",
    "\n",
    "\n",
    "1. 解の候補x_1を適当に決める\n",
    "1. (x_1, f(x_1))の接線を引く\n",
    "1. その接線がx軸と交わる点を次の解候補x_2として繰り返し\n",
    "\n",
    "\n",
    "- 反復公式…x_{n + 1} = x_n - f(x_n) / f '(x_n)"
   ]
  },
  {
   "cell_type": "code",
   "execution_count": 6,
   "metadata": {},
   "outputs": [],
   "source": [
    "import sympy as sym\n",
    "from sympy.plotting import plot\n",
    "sym.init_printing(use_unicode = True)\n",
    "%matplotlib inline\n",
    "\n",
    "x = sym.Symbol('x')\n",
    "f = sym.Function('f')"
   ]
  },
  {
   "cell_type": "code",
   "execution_count": 42,
   "metadata": {},
   "outputs": [
    {
     "data": {
      "image/png": "[encoded data removed]",
      "text/latex": [
       "$\\displaystyle x^{3} - 2 x - 5$"
      ],
      "text/plain": [
       " 3          \n",
       "x  - 2⋅x - 5"
      ]
     },
     "execution_count": 42,
     "metadata": {},
     "output_type": "execute_result"
    }
   ],
   "source": [
    "# 今回解く方程式はこちらです\n",
    "f = x ** 3 - 2 * x - 5\n",
    "f"
   ]
  },
  {
   "cell_type": "code",
   "execution_count": 15,
   "metadata": {},
   "outputs": [
    {
     "data": {
      "image/png": "[encoded data removed]",
      "text/plain": [
       "<Figure size 432x288 with 1 Axes>"
      ]
     },
     "metadata": {
      "needs_background": "light"
     },
     "output_type": "display_data"
    },
    {
     "data": {
      "text/plain": [
       "<sympy.plotting.plot.Plot at 0x23a1047cac8>"
      ]
     },
     "execution_count": 15,
     "metadata": {},
     "output_type": "execute_result"
    }
   ],
   "source": [
    "# グラフ描いてみるとこう\n",
    "plot(f, (x, -4, 4))"
   ]
  },
  {
   "cell_type": "code",
   "execution_count": 10,
   "metadata": {},
   "outputs": [
    {
     "data": {
      "image/png": "[encoded data removed]",
      "text/latex": [
       "$\\displaystyle 3 x^{2} - 2$"
      ],
      "text/plain": [
       "   2    \n",
       "3⋅x  - 2"
      ]
     },
     "execution_count": 10,
     "metadata": {},
     "output_type": "execute_result"
    }
   ],
   "source": [
    "# まず微分して導関数を求めておく\n",
    "df = sym.Derivative(f).doit()\n",
    "df"
   ]
  },
  {
   "cell_type": "code",
   "execution_count": 36,
   "metadata": {},
   "outputs": [
    {
     "name": "stdout",
     "output_type": "stream",
     "text": [
      "(n, x, f(x)) = (0, 2, -1)\n"
     ]
    }
   ],
   "source": [
    "# 終了条件 δ = 10^-6,  |f(x_n)| < δ\n",
    "delta = 10 ** (-6)\n",
    "\n",
    "# 初期値\n",
    "n = 0\n",
    "x_n = 2\n",
    "\n",
    "print(\"(n, x, f(x)) = (\", end = \"\")\n",
    "print(n, end = \", \")\n",
    "print(x_n, end = \", \")\n",
    "print(f.subs(x, x_n), end = \")\\n\")"
   ]
  },
  {
   "cell_type": "code",
   "execution_count": 37,
   "metadata": {},
   "outputs": [
    {
     "name": "stdout",
     "output_type": "stream",
     "text": [
      "(n, x, f(x)) = (1, 2.1, 0.061)\n",
      "(n, x, f(x)) = (2, 2.094568121104185, 0.00018572317327274747)\n",
      "(n, x, f(x)) = (3, 2.094551481698199, 1.7397635617194985e-09)\n"
     ]
    }
   ],
   "source": [
    "# 反復公式…x_{n + 1} = x_n - f(x_n) / f '(x_n)\n",
    "while abs(f.subs(x, x_n)) >= delta :\n",
    "    n += 1\n",
    "    x_n = x_n - f.subs(x, x_n) / df.subs(x, x_n)\n",
    "    print(\"(n, x, f(x)) = (\", end = \"\")\n",
    "    print(n, end = \", \")\n",
    "    print(float(x_n), end = \", \")\n",
    "    print(float(f.subs(x, x_n)), end = \")\\n\")"
   ]
  },
  {
   "cell_type": "markdown",
   "metadata": {},
   "source": [
    "そうだ、関数化してみよう"
   ]
  },
  {
   "cell_type": "code",
   "execution_count": 62,
   "metadata": {},
   "outputs": [],
   "source": [
    "def newton (fx, x_0, delta = 10 ** (-6)):\n",
    "    import sympy as sym\n",
    "    from sympy.plotting import plot\n",
    "    sym.init_printing(use_unicode = True)\n",
    "    %matplotlib inline\n",
    "\n",
    "    x = sym.Symbol('x')\n",
    "    f = sym.Function('f')\n",
    "    \n",
    "    f = fx\n",
    "    df = sym.Derivative(f).doit()\n",
    "\n",
    "    # 初期値\n",
    "    n = 0\n",
    "    x_n = x_0\n",
    "\n",
    "    print(\"(n, x, f(x)) = (\", end = \"\")\n",
    "    print(n, end = \", \")\n",
    "    print(x_n, end = \", \")\n",
    "    print(f.subs(x, x_n), end = \")\\n\")\n",
    "    \n",
    "    while abs(f.subs(x, x_n)) >= delta :\n",
    "        n += 1\n",
    "        x_n = x_n - f.subs(x, x_n) / df.subs(x, x_n)\n",
    "        print(\"(n, x, f(x)) = (\", end = \"\")\n",
    "        print(n, end = \", \")\n",
    "        print(float(x_n), end = \", \")\n",
    "        print(float(f.subs(x, x_n)), end = \")\\n\")"
   ]
  },
  {
   "cell_type": "code",
   "execution_count": 63,
   "metadata": {},
   "outputs": [
    {
     "name": "stdout",
     "output_type": "stream",
     "text": [
      "(n, x, f(x)) = (0, 20, 7955)\n",
      "(n, x, f(x)) = (1, 13.359766277128548, 2352.7763743296464)\n",
      "(n, x, f(x)) = (2, 8.949275907048873, 693.8448322964095)\n",
      "(n, x, f(x)) = (3, 6.037248134542069, 202.9733275638811)\n",
      "(n, x, f(x)) = (4, 4.146399490287346, 57.99470803486478)\n",
      "(n, x, f(x)) = (5, 2.9766298110822444, 15.420648004630287)\n",
      "(n, x, f(x)) = (6, 2.349289034567688, 3.267521574281935)\n",
      "(n, x, f(x)) = (7, 2.1248324480403533, 0.34376860243082835)\n",
      "(n, x, f(x)) = (8, 2.09505536875918, 0.005625701354512715)\n",
      "(n, x, f(x)) = (9, 2.0945516244258404, 1.5947855724638538e-06)\n",
      "(n, x, f(x)) = (10, 2.094551481542338, 1.2828518035830884e-13)\n"
     ]
    }
   ],
   "source": [
    "f = x ** 3 - 2 * x - 5\n",
    "newton(f, 20)"
   ]
  },
  {
   "cell_type": "code",
   "execution_count": 65,
   "metadata": {},
   "outputs": [
    {
     "name": "stdout",
     "output_type": "stream",
     "text": [
      "(n, x, f(x)) = (0, 0.8, -1.03200000000000)\n",
      "(n, x, f(x)) = (1, 0.12105263157894608, 2.25147222627206)\n",
      "(n, x, f(x)) = (2, 0.47795525118629756, 0.1121247754394325)\n",
      "(n, x, f(x)) = (3, 0.4996406209312292, 0.0017974117714543714)\n",
      "(n, x, f(x)) = (4, 0.49999989681091433, 5.15945470791479e-07)\n",
      "(n, x, f(x)) = (5, 0.49999999999999145, 4.296563105299356e-14)\n",
      "(n, x, f(x)) = (6, 0.5, 0.0)\n"
     ]
    }
   ],
   "source": [
    "f = 4 * x ** 3 - 2 * x ** 2 - 6 * x + 3\n",
    "newton(f, 0.8, 10**(-15))"
   ]
  }
 ],
 "metadata": {
  "kernelspec": {
   "display_name": "Python 3",
   "language": "python",
   "name": "python3"
  },
  "language_info": {
   "codemirror_mode": {
    "name": "ipython",
    "version": 3
   },
   "file_extension": ".py",
   "mimetype": "text/x-python",
   "name": "python",
   "nbconvert_exporter": "python",
   "pygments_lexer": "ipython3",
   "version": "3.7.4"
  }
 },
 "nbformat": 4,
 "nbformat_minor": 2
}
