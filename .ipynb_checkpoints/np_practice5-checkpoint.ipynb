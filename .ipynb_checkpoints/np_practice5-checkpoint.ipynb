{
 "cells": [
  {
   "cell_type": "markdown",
   "metadata": {},
   "source": [
    "## データの正規化\n",
    "### 標準化\n",
    "- Z = (x - μ) / σ\n",
    "    - μ … 平均\n",
    "    - σ … 標準偏差"
   ]
  },
  {
   "cell_type": "code",
   "execution_count": 1,
   "metadata": {},
   "outputs": [],
   "source": [
    "import numpy as np"
   ]
  },
  {
   "cell_type": "markdown",
   "metadata": {},
   "source": [
    "まず、axisについて挙動を確認してみる。"
   ]
  },
  {
   "cell_type": "code",
   "execution_count": 16,
   "metadata": {},
   "outputs": [
    {
     "name": "stdout",
     "output_type": "stream",
     "text": [
      "a = \n",
      "[[0 1]\n",
      " [2 3]\n",
      " [4 5]]\n",
      "\n",
      "axis = None → 15\n",
      "axis = 0 → [6 9]\n",
      "axis = 1 → [1 5 9]\n"
     ]
    }
   ],
   "source": [
    "a = np.array(range(0, 6))\n",
    "a = a.reshape(3, 2)\n",
    "print(\"a = \")\n",
    "print(a)\n",
    "\n",
    "print()\n",
    "print(\"axis = None → \", end = \"\")\n",
    "print(a.sum())\n",
    "print(\"axis = 0 → \", end = \"\")\n",
    "print(a.sum(axis = 0))\n",
    "print(\"axis = 1 → \", end = \"\")\n",
    "print(a.sum(axis = 1))"
   ]
  },
  {
   "cell_type": "markdown",
   "metadata": {},
   "source": [
    "- None … 全部足す\n",
    "- 0 … 縦方向に足す\n",
    "- 1 … 横方向に足す"
   ]
  },
  {
   "cell_type": "markdown",
   "metadata": {},
   "source": [
    "では標準化する関数を作ってみる。"
   ]
  },
  {
   "cell_type": "code",
   "execution_count": 2,
   "metadata": {},
   "outputs": [],
   "source": [
    "def zscore (x, axis = None):\n",
    "    mu = x.mean(axis = axis, keepdims = True)\n",
    "    sigma = np.std(x, axis = axis, keepdims = True)\n",
    "    zscore = (x - mu) / sigma\n",
    "    return zscore"
   ]
  },
  {
   "cell_type": "markdown",
   "metadata": {},
   "source": [
    "- keepdims … 次元を保存するか否か設定できる。"
   ]
  },
  {
   "cell_type": "code",
   "execution_count": 32,
   "metadata": {},
   "outputs": [
    {
     "name": "stdout",
     "output_type": "stream",
     "text": [
      "data = \n",
      "[[1 4 6 3 8]\n",
      " [6 6 0 5 4]]\n",
      "\n",
      "[[-1.41878082 -0.12898007  0.73088709 -0.55891365  1.59075425]\n",
      " [ 0.73088709  0.73088709 -1.8487144   0.30095351 -0.12898007]]\n",
      "\n",
      "[[-1.40693001 -0.16552118  0.66208471 -0.57932412  1.4896906 ]\n",
      " [ 0.80822386  0.80822386 -1.88585567  0.3592106  -0.08980265]]\n",
      "\n"
     ]
    }
   ],
   "source": [
    "a = np.random.randint(10, size = (2,5))\n",
    "print(\"data = \")\n",
    "print(a, end = \"\\n\\n\")\n",
    "\n",
    "b = zscore(a)\n",
    "c = zscore(a, axis = 1)\n",
    "\n",
    "print(b, end = \"\\n\\n\")\n",
    "print(c, end = \"\\n\\n\")"
   ]
  },
  {
   "cell_type": "code",
   "execution_count": 38,
   "metadata": {},
   "outputs": [
    {
     "name": "stdout",
     "output_type": "stream",
     "text": [
      "bのμ = 1.0824674490095276e-16\n",
      "bのσ = 1.0\n",
      "\n",
      "cのμ = [-2.22044605e-16 -5.82867088e-17]\n",
      "cのσ = [1. 1.]\n",
      "\n"
     ]
    }
   ],
   "source": [
    "bmu = b.mean()\n",
    "bsigma = b.std()\n",
    "\n",
    "cmu = c.mean(axis = 1)\n",
    "csigma = c.std(axis = 1)\n",
    "\n",
    "print(\"bのμ = \" + str(bmu))\n",
    "print(\"bのσ = \" + str(bsigma), end = \"\\n\\n\")\n",
    "print(\"cのμ = \" + str(cmu))\n",
    "print(\"cのσ = \" + str(csigma), end = \"\\n\\n\")"
   ]
  },
  {
   "cell_type": "markdown",
   "metadata": {},
   "source": [
    "平均0、標準偏差1になっていることがわかる。"
   ]
  },
  {
   "cell_type": "markdown",
   "metadata": {},
   "source": [
    "### min-max normalization\n",
    "(x - min) / (max - min) で正規化する方法。"
   ]
  },
  {
   "cell_type": "code",
   "execution_count": 40,
   "metadata": {},
   "outputs": [],
   "source": [
    "def min_max (x, axis = None):\n",
    "    min = x.min(axis = axis, keepdims = True)\n",
    "    max = x.max(axis = axis, keepdims = True)\n",
    "    result = (x - min) / (max - min)\n",
    "    return result"
   ]
  },
  {
   "cell_type": "code",
   "execution_count": 41,
   "metadata": {},
   "outputs": [
    {
     "name": "stdout",
     "output_type": "stream",
     "text": [
      "data = \n",
      "[[1 6 5 8 8]\n",
      " [6 9 2 3 6]]\n",
      "\n",
      "[[0.    0.625 0.5   0.875 0.875]\n",
      " [0.625 1.    0.125 0.25  0.625]]\n",
      "\n",
      "[[0.         0.71428571 0.57142857 1.         1.        ]\n",
      " [0.57142857 1.         0.         0.14285714 0.57142857]]\n",
      "\n"
     ]
    }
   ],
   "source": [
    "a = np.random.randint(10, size = (2,5))\n",
    "print(\"data = \")\n",
    "print(a, end = \"\\n\\n\")\n",
    "print(min_max(a), end = \"\\n\\n\")\n",
    "print(min_max(a, 1), end = \"\\n\\n\")"
   ]
  },
  {
   "cell_type": "markdown",
   "metadata": {},
   "source": [
    "### ノルムの求め方 → ベクトルの正規化\n",
    "各要素 / ノルム でベクトルを正規化できる。\n",
    "\n",
    "ということでノルムの求め方を見ていく。"
   ]
  },
  {
   "cell_type": "code",
   "execution_count": 42,
   "metadata": {},
   "outputs": [],
   "source": [
    "import numpy.linalg as LA"
   ]
  },
  {
   "cell_type": "code",
   "execution_count": 62,
   "metadata": {},
   "outputs": [
    {
     "name": "stdout",
     "output_type": "stream",
     "text": [
      "a = [2 4]\n",
      "|a| = 4.47213595499958\n"
     ]
    }
   ],
   "source": [
    "a = np.random.randint(5, size = 2)\n",
    "norm = LA.norm(a)\n",
    "\n",
    "print(\"a = \" + str(a))\n",
    "print(\"|a| = \" + str(norm))"
   ]
  }
 ],
 "metadata": {
  "kernelspec": {
   "display_name": "Python 3",
   "language": "python",
   "name": "python3"
  },
  "language_info": {
   "codemirror_mode": {
    "name": "ipython",
    "version": 3
   },
   "file_extension": ".py",
   "mimetype": "text/x-python",
   "name": "python",
   "nbconvert_exporter": "python",
   "pygments_lexer": "ipython3",
   "version": "3.7.4"
  }
 },
 "nbformat": 4,
 "nbformat_minor": 2
}
