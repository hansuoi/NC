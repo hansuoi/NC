{
 "cells": [
  {
   "cell_type": "markdown",
   "metadata": {},
   "source": [
    "Newton2とか言っておきながらやることは割線法と二分法"
   ]
  },
  {
   "cell_type": "markdown",
   "metadata": {},
   "source": [
    "## 割線法\n",
    "$f'(x)$を数値的に近似したNewton法\n",
    "\n",
    "導関数が定義できない時などに使う。\n",
    "逐一、$f'(x) \\simeq \\frac{f(x_n) - f(x_{n - 1})}{x_n - x_{n - 1}}$を計算して微分係数の近似値を出す"
   ]
  },
  {
   "cell_type": "code",
   "execution_count": 15,
   "metadata": {},
   "outputs": [
    {
     "name": "stdout",
     "output_type": "stream",
     "text": [
      "(n, x, f(x)) = (0, 20.2, 8197.00800000000)\n",
      "(n, x, f(x)) = (1, 13.3579847083570, 2351.82612355830)\n",
      "(n, x, f(x)) = (2, 10.6050797276711, 1166.51893583464)\n",
      "(n, x, f(x)) = (3, 7.89581092226477, 471.463472954014)\n",
      "(n, x, f(x)) = (4, 6.05808523218956, 205.217960681095)\n",
      "(n, x, f(x)) = (5, 4.64159443319385, 85.7171730520001)\n",
      "(n, x, f(x)) = (6, 3.62555437728279, 35.4055148048087)\n",
      "(n, x, f(x)) = (7, 2.91054273793087, 13.8348759730630)\n",
      "(n, x, f(x)) = (8, 2.45195189938917, 4.83739803975628)\n",
      "(n, x, f(x)) = (9, 2.20539542658030, 1.31574302799432)\n",
      "(n, x, f(x)) = (10, 2.11327823763883, 0.211227712838544)\n",
      "(n, x, f(x)) = (11, 2.09566172941461, 0.0123997094047787)\n",
      "(n, x, f(x)) = (12, 2.09456309351356, 0.000129607141024835)\n",
      "(n, x, f(x)) = (13, 2.09455148879706, 8.09732334516866e-8)\n"
     ]
    }
   ],
   "source": [
    "import sympy as sym\n",
    "\n",
    "from sympy.plotting import plot\n",
    "sym.init_printing(use_unicode = True)\n",
    "%matplotlib inline\n",
    "\n",
    "import numpy as np\n",
    "import sympy\n",
    "import math\n",
    "\n",
    "\n",
    "n = np.arange(0, 14, 1)\n",
    "f_i = np.zeros(14)\n",
    "\n",
    "x = sym.Symbol('x')\n",
    "f = sym.Function('f')\n",
    "\n",
    "f = x ** 3 - 2 * x - 5\n",
    "\n",
    "x_n0 = 19.8\n",
    "x_n1 = 20.2\n",
    "delta = 10 ** (-6)\n",
    "\n",
    "i = 0\n",
    "# 誤差の対数を格納していく\n",
    "f_i[i] = math.log(f.subs(x, x_n1))\n",
    "print(\"(n, x, f(x)) = (\", end = \"\")\n",
    "print(n[i], end = \", \")\n",
    "print(x_n1, end = \", \")\n",
    "print(f.subs(x, x_n1), end = \")\\n\")\n",
    "\n",
    "\n",
    "while abs(f.subs(x, x_n1)) >= delta :\n",
    "    i += 1\n",
    "    \n",
    "    # ここが違う！\n",
    "    # 微分係数を近似的に求める\n",
    "    df = (f.subs(x, x_n1) - f.subs(x, x_n0)) / (x_n1 - x_n0)\n",
    "    \n",
    "    x_n0 = x_n1\n",
    "    x_n1 = x_n1 - f.subs(x, x_n1) / df\n",
    "    f_i[i] = math.log(f.subs(x, x_n1))\n",
    "    \n",
    "    print(\"(n, x, f(x)) = (\", end = \"\")\n",
    "    print(n[i], end = \", \")\n",
    "    print(x_n1, end = \", \")\n",
    "    print(f.subs(x, x_n1), end = \")\\n\")"
   ]
  },
  {
   "cell_type": "markdown",
   "metadata": {},
   "source": [
    "誤差は1.6次収束する"
   ]
  },
  {
   "cell_type": "code",
   "execution_count": 17,
   "metadata": {},
   "outputs": [
    {
     "data": {
      "image/png": "[encoded data removed]",
      "text/plain": [
       "<Figure size 432x288 with 1 Axes>"
      ]
     },
     "metadata": {
      "needs_background": "light"
     },
     "output_type": "display_data"
    }
   ],
   "source": [
    "import matplotlib.pyplot as plt\n",
    "\n",
    "# 前回、Newton法の誤差についてグラフを描いた。\n",
    "# その時の値をコピペ\n",
    "newton = np.array([ 8.98155594, 7.76335135, 6.54224835, 5.31307458, 4.06035177, 2.73570739, 1.18403177, -1.06778652,\n",
    "                               -5.18040965, -13.34877127, -29.68452064 ])\n",
    "\n",
    "plt.grid()\n",
    "plt.ylabel(\"log f(x)\")\n",
    "plt.plot(np.arange(0, 11, 1), newton, 'r')\n",
    "plt.plot(n, f_i, 'b')\n",
    "plt.legend([\"Newton\", \"secant\"])\n",
    "plt.show()"
   ]
  },
  {
   "cell_type": "markdown",
   "metadata": {},
   "source": [
    "割線法(secant method)の収束が、Newton法よりも遅いことが確認できる。"
   ]
  }
 ],
 "metadata": {
  "kernelspec": {
   "display_name": "Python 3",
   "language": "python",
   "name": "python3"
  },
  "language_info": {
   "codemirror_mode": {
    "name": "ipython",
    "version": 3
   },
   "file_extension": ".py",
   "mimetype": "text/x-python",
   "name": "python",
   "nbconvert_exporter": "python",
   "pygments_lexer": "ipython3",
   "version": "3.7.4"
  }
 },
 "nbformat": 4,
 "nbformat_minor": 2
}
