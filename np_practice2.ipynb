{
 "cells": [
  {
   "cell_type": "markdown",
   "metadata": {},
   "source": [
    "## 行列式"
   ]
  },
  {
   "cell_type": "code",
   "execution_count": 10,
   "metadata": {},
   "outputs": [],
   "source": [
    "import numpy as np\n",
    "import numpy.linalg as LA"
   ]
  },
  {
   "cell_type": "code",
   "execution_count": 11,
   "metadata": {},
   "outputs": [
    {
     "name": "stdout",
     "output_type": "stream",
     "text": [
      "[[1 1]\n",
      " [2 2]]\n"
     ]
    }
   ],
   "source": [
    "a = np.array([[1, 1], [2, 2]])\n",
    "print(a)"
   ]
  },
  {
   "cell_type": "code",
   "execution_count": 12,
   "metadata": {},
   "outputs": [
    {
     "name": "stdout",
     "output_type": "stream",
     "text": [
      "0.0\n"
     ]
    }
   ],
   "source": [
    "print(LA.det(a))"
   ]
  },
  {
   "cell_type": "markdown",
   "metadata": {},
   "source": [
    "## 固有値"
   ]
  },
  {
   "cell_type": "markdown",
   "metadata": {},
   "source": [
    "### 一応簡単に復習\n",
    "- 概要\n",
    "    - 正方行列*A*に対し、A**x** = λ**x** を満たすスカラー*λ*が固有値、ベクトル***x***が固有ベクトル\n",
    "\n",
    "\n",
    "- 求め方\n",
    "    1. 固有方程式(A - λI)**x** = **0**を作る\n",
    "    1. ***x***は**0**でないので、(A - λI) = **0**である。*det(A - λI) = 0*を計算すれば*λ*がわかる\n",
    "    1. *λ*を固有方程式に代入して***x***を得る\n",
    "\n",
    "\n",
    "- 対角化\n",
    "    - ***x***_iを並べた行列*P*を考えて、*P*^-1*AP* を計算すると、これは*λ_i*を対角成分に並べた行列になっている"
   ]
  },
  {
   "cell_type": "code",
   "execution_count": 20,
   "metadata": {},
   "outputs": [
    {
     "name": "stdout",
     "output_type": "stream",
     "text": [
      "[[1 0]\n",
      " [0 2]]\n",
      "\n",
      "(λ, x) = (1, [1, 0]), (2, [0, 1])\n",
      "\n",
      "(array([1., 2.]), array([[1., 0.],\n",
      "       [0., 1.]]))\n"
     ]
    }
   ],
   "source": [
    "a = np.array([[1, 0], [0, 2]])\n",
    "print(a)\n",
    "print()\n",
    "print(\"(λ, x) = (1, [1, 0]), (2, [0, 1])\")\n",
    "print()\n",
    "print(LA.eig(a))"
   ]
  },
  {
   "cell_type": "markdown",
   "metadata": {},
   "source": [
    "固有ベクトルは、((x1, x2), (y1, y2))のフォーマットで表示されている。"
   ]
  },
  {
   "cell_type": "code",
   "execution_count": 22,
   "metadata": {},
   "outputs": [
    {
     "name": "stdout",
     "output_type": "stream",
     "text": [
      "[1. 2.]\n",
      "\n",
      "[[1. 0.]\n",
      " [0. 1.]]\n"
     ]
    }
   ],
   "source": [
    "w, v = LA.eig(a)\n",
    "\n",
    "print(w)\n",
    "print()\n",
    "print(v)"
   ]
  },
  {
   "cell_type": "markdown",
   "metadata": {},
   "source": [
    "### 固有値と固有ベクトルとは何なのか？\n",
    "- 行列をベクトルに掛けるということ → 線形変換"
   ]
  },
  {
   "cell_type": "code",
   "execution_count": 70,
   "metadata": {},
   "outputs": [
    {
     "name": "stdout",
     "output_type": "stream",
     "text": [
      "[[ 2.   1. ]\n",
      " [-0.5 -1.5]]\n",
      "\n",
      "[1 1]\n",
      "\n",
      "[ 3. -2.]\n"
     ]
    }
   ],
   "source": [
    "A = np.array([[2, 1], [-0.5, -1.5]])\n",
    "print(A)\n",
    "print()\n",
    "\n",
    "x = np.array([1, 1])\n",
    "print(x)\n",
    "print()\n",
    "\n",
    "Ax = np.dot(A, x)\n",
    "print(Ax)"
   ]
  },
  {
   "cell_type": "markdown",
   "metadata": {},
   "source": [
    "可視化してみる。"
   ]
  },
  {
   "cell_type": "code",
   "execution_count": 30,
   "metadata": {},
   "outputs": [],
   "source": [
    "import matplotlib.pyplot as plt"
   ]
  },
  {
   "cell_type": "code",
   "execution_count": 104,
   "metadata": {
    "scrolled": false
   },
   "outputs": [
    {
     "data": {
      "image/png": "[encoded data removed]",
      "text/plain": [
       "<Figure size 432x432 with 1 Axes>"
      ]
     },
     "metadata": {
      "needs_background": "light"
     },
     "output_type": "display_data"
    }
   ],
   "source": [
    "# ウィンドウを描画\n",
    "plt.figure(figsize = (6, 6))\n",
    "\n",
    "# x, Axを描画\n",
    "# plt.plot ( 横軸, 縦軸 )\n",
    "# plt.plot ([x1, x2], [y1, y2]) で、点(x1, y1)から点(x2, y2)を結ぶ\n",
    "# その後ろに、色や凡例名等を追加することも可能\n",
    "plt.plot([0, Ax[0]], [0, Ax[1]], \"r\", label = \"Ax\")\n",
    "plt.plot([0, x[0]], [0, x[1]], \"b\", label = \"x\")\n",
    "\n",
    "# 縦軸・横軸を書く\n",
    "plt.plot([-1, 4], [0, 0], \"k\", linewidth = 1)\n",
    "plt.plot([0, 0], [-3, 2], \"k\", linewidth = 1)\n",
    "\n",
    "# 凡例(label)の表示命令\n",
    "plt.legend()\n",
    "\n",
    "# 作成したグラフの表示命令\n",
    "plt.show()"
   ]
  },
  {
   "cell_type": "markdown",
   "metadata": {},
   "source": [
    "青に*A*をかけたら赤になった。\n",
    "\n",
    "つまり、「ベクトルに行列を掛ける」とは、\n",
    "- ベクトルを回しつつ長さを変える\n",
    "\n",
    "ことと同じになる。"
   ]
  },
  {
   "cell_type": "markdown",
   "metadata": {},
   "source": [
    "これが線形変換 (線形写像)。\n",
    "\n",
    "このときの*A*を「表現行列」と言う。~懐かしい~"
   ]
  },
  {
   "cell_type": "markdown",
   "metadata": {},
   "source": [
    "では本題の固有値 / 固有ベクトルへ。"
   ]
  },
  {
   "cell_type": "code",
   "execution_count": 78,
   "metadata": {},
   "outputs": [
    {
     "name": "stdout",
     "output_type": "stream",
     "text": [
      "[ 1.85078106 -1.35078106]\n",
      "\n",
      "[[ 0.98904939 -0.28597431]\n",
      " [-0.1475849   0.95823729]]\n"
     ]
    }
   ],
   "source": [
    "w, v = LA.eig(A)\n",
    "\n",
    "print(w)\n",
    "print()\n",
    "print(v)"
   ]
  },
  {
   "cell_type": "markdown",
   "metadata": {},
   "source": [
    "この固有ベクトルを、さっきと同じように表示してみる。"
   ]
  },
  {
   "cell_type": "code",
   "execution_count": 93,
   "metadata": {},
   "outputs": [
    {
     "data": {
      "image/png": "[encoded data removed]",
      "text/plain": [
       "<Figure size 432x432 with 1 Axes>"
      ]
     },
     "metadata": {
      "needs_background": "light"
     },
     "output_type": "display_data"
    },
    {
     "data": {
      "image/png": "[encoded data removed]",
      "text/plain": [
       "<Figure size 432x432 with 1 Axes>"
      ]
     },
     "metadata": {
      "needs_background": "light"
     },
     "output_type": "display_data"
    }
   ],
   "source": [
    "v1 = np.array([v[0][0], v[1][0]])\n",
    "v2 = np.array([v[0][1], v[1][1]])\n",
    "\n",
    "Av1 = np.dot(A, v1)\n",
    "Av2 = np.dot(A, v2)\n",
    "\n",
    "plt.figure(figsize = (6, 6))\n",
    "plt.plot([0, Av1[0]], [0, Av1[1]], \"r\", label = \"Av1\")\n",
    "plt.plot([0, v1[0]], [0, v1[1]], \"b\", label = \"v1\")\n",
    "plt.plot([-1, 2], [0, 0], \"k\", linewidth = 1)\n",
    "plt.plot([0, 0], [-2, 1], \"k\", linewidth = 1)\n",
    "plt.legend()\n",
    "plt.show()\n",
    "\n",
    "plt.figure(figsize = (6, 6))\n",
    "plt.plot([0, Av2[0]], [0, Av2[1]], \"r\", label = \"Av2\")\n",
    "plt.plot([0, v2[0]], [0, v2[1]], \"b\", label = \"v2\")\n",
    "plt.plot([-1, 2], [0, 0], \"k\", linewidth = 1)\n",
    "plt.plot([0, 0], [-2, 1], \"k\", linewidth = 1)\n",
    "plt.legend()\n",
    "plt.show()"
   ]
  },
  {
   "cell_type": "markdown",
   "metadata": {},
   "source": [
    "つまり、固有ベクトルとは、\n",
    "\n",
    "- 線形変換の前後で向きが変わらない入力ベクトルのこと\n",
    "\n",
    "である。"
   ]
  },
  {
   "cell_type": "markdown",
   "metadata": {},
   "source": [
    "固有ベクトルを線形写像の入力にすると、向きが変わらないのでただ長さが変わるだけになる。\n",
    "\n",
    "どれだけ変わるかというと、固有値*λ*分だけ変わるのである。"
   ]
  },
  {
   "cell_type": "code",
   "execution_count": 125,
   "metadata": {},
   "outputs": [
    {
     "name": "stdout",
     "output_type": "stream",
     "text": [
      "0.0\n",
      "\n",
      "6.661338147750939e-16\n"
     ]
    }
   ],
   "source": [
    "# |Av_i| = λ|v_i| を示したいので、(Av_i)^2 - (λv_i)^2 = 0 を確認する。\n",
    "Av1norm2 = np.dot(Av1, Av1)\n",
    "v1norm2 = np.dot(v1, v1)\n",
    "print(Av1norm2 - w[0] * w[0] * v1norm2)\n",
    "print()\n",
    "\n",
    "Av2norm2 = np.dot(Av2, Av2)\n",
    "v2norm2 = np.dot(v2, v2)\n",
    "print(Av2norm2 - w[1] * w[1] * v2norm2)"
   ]
  },
  {
   "cell_type": "markdown",
   "metadata": {},
   "source": [
    "v2の方も、ほぼ0と言っていい数値である。\n",
    "\n",
    "これで、確認できた。"
   ]
  },
  {
   "cell_type": "markdown",
   "metadata": {},
   "source": [
    "対角化をしてみる。"
   ]
  },
  {
   "cell_type": "code",
   "execution_count": 122,
   "metadata": {},
   "outputs": [
    {
     "name": "stdout",
     "output_type": "stream",
     "text": [
      "[[ 0.00000000e+00  0.00000000e+00]\n",
      " [-5.55111512e-17  2.22044605e-16]]\n",
      "\n",
      "[[0. 0.]\n",
      " [0. 0.]]\n"
     ]
    }
   ],
   "source": [
    "# D = P^-1APの確認\n",
    "D = np.array([[w[0], 0], [0, w[1]]])\n",
    "P = v\n",
    "Pinv = LA.inv(P)\n",
    "\n",
    "print(D - np.dot(np.dot(Pinv, A), P))\n",
    "print()\n",
    "\n",
    "# A = PDP^-1\n",
    "print(A - np.dot(np.dot(P, D), Pinv))"
   ]
  },
  {
   "cell_type": "markdown",
   "metadata": {},
   "source": [
    "*A^n = P D^n P^*-1より、対角化することで*A^n*の計算を楽にすることができる。\n",
    "- 参考…*A*^2 = *PDP^*-1 *PDP^*-1 = *PD (P^*-1 *P) DP^*-1 = *PD^*2 P^-1"
   ]
  }
 ],
 "metadata": {
  "kernelspec": {
   "display_name": "Python 3",
   "language": "python",
   "name": "python3"
  },
  "language_info": {
   "codemirror_mode": {
    "name": "ipython",
    "version": 3
   },
   "file_extension": ".py",
   "mimetype": "text/x-python",
   "name": "python",
   "nbconvert_exporter": "python",
   "pygments_lexer": "ipython3",
   "version": "3.7.4"
  }
 },
 "nbformat": 4,
 "nbformat_minor": 2
}
