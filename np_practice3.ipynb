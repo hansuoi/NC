{
 "cells": [
  {
   "cell_type": "markdown",
   "metadata": {},
   "source": [
    "## 階数(ランク)"
   ]
  },
  {
   "cell_type": "code",
   "execution_count": 3,
   "metadata": {},
   "outputs": [],
   "source": [
    "import numpy as np\n",
    "import numpy.linalg as LA"
   ]
  },
  {
   "cell_type": "code",
   "execution_count": 4,
   "metadata": {},
   "outputs": [
    {
     "name": "stdout",
     "output_type": "stream",
     "text": [
      "4\n"
     ]
    }
   ],
   "source": [
    "A = np.array([[1, 1, 4, 0, 1], \n",
    "                      [0, 3, 1, 3, 2],\n",
    "                      [1, 3, 0, 0, 1],\n",
    "                      [2, 4, 3, 1, 1]])\n",
    "\n",
    "print(LA.matrix_rank(A))"
   ]
  },
  {
   "cell_type": "markdown",
   "metadata": {},
   "source": [
    "## 逆行列\n",
    "\n",
    "### 概要\n",
    "- *A A^*-1 = *I* となる*A^*-1 がAの逆行列\n",
    "\n",
    "\n",
    "### 求め方\n",
    "1. Ainv = (余因子行列) / detA\n",
    "1. Aに単位行列 I を併設し、Aが単位行列になるまで行基本変形をしたら、I の部分がAinvになっている。"
   ]
  },
  {
   "cell_type": "code",
   "execution_count": 11,
   "metadata": {},
   "outputs": [
    {
     "name": "stdout",
     "output_type": "stream",
     "text": [
      "A = \n",
      "[[-1  4]\n",
      " [ 0 -2]]\n",
      "\n",
      "A^-1 = \n",
      "[[-1.  -2. ]\n",
      " [-0.  -0.5]]\n",
      "\n",
      "AA^-1 = I\n",
      "[[1. 0.]\n",
      " [0. 1.]]\n"
     ]
    }
   ],
   "source": [
    "A = np.array([[-1, 4], [0, -2]])\n",
    "print(\"A = \")\n",
    "print(A)\n",
    "print()\n",
    "\n",
    "Ainv = LA.inv(A)\n",
    "print(\"A^-1 = \")\n",
    "print(Ainv)\n",
    "print()\n",
    "\n",
    "print(\"AA^-1 = I\")\n",
    "print(np.dot(A, Ainv))"
   ]
  },
  {
   "cell_type": "markdown",
   "metadata": {},
   "source": [
    "### 正則行列\n",
    "\n",
    "- 以下のどれかを満たすと、n×nの正方行列は正則行列と言える。\n",
    "    1. 逆行列が存在する\n",
    "    1. 行列式が0でない\n",
    "    1. ランクがn\n",
    "    1. カーネルは**0**のみ\n",
    "        - 参考…次元定理 : rankA + rank(KerA) = n\n",
    "    1. 固有値が全て0でない"
   ]
  },
  {
   "cell_type": "markdown",
   "metadata": {},
   "source": [
    "## 直積"
   ]
  },
  {
   "cell_type": "code",
   "execution_count": 14,
   "metadata": {},
   "outputs": [
    {
     "name": "stdout",
     "output_type": "stream",
     "text": [
      "[[ 0  2  4  6  8  1]\n",
      " [ 0  4  8 12 16  2]\n",
      " [ 0  6 12 18 24  3]\n",
      " [ 0  4  8 12 16  2]\n",
      " [ 0  2  4  6  8  1]]\n",
      "\n",
      "True\n"
     ]
    }
   ],
   "source": [
    "a = np.array([1, 2, 3, 2, 1])\n",
    "b = np.array([0, 2, 4, 6, 8, 1])\n",
    "\n",
    "AB = np.outer(a, b)\n",
    "print(AB)\n",
    "print()\n",
    "\n",
    "# 直積のi j 成分 = a[i] * b[j]\n",
    "print(AB[2][4] == a[2] * b[4])"
   ]
  }
 ],
 "metadata": {
  "kernelspec": {
   "display_name": "Python 3",
   "language": "python",
   "name": "python3"
  },
  "language_info": {
   "codemirror_mode": {
    "name": "ipython",
    "version": 3
   },
   "file_extension": ".py",
   "mimetype": "text/x-python",
   "name": "python",
   "nbconvert_exporter": "python",
   "pygments_lexer": "ipython3",
   "version": "3.7.7"
  }
 },
 "nbformat": 4,
 "nbformat_minor": 2
}
